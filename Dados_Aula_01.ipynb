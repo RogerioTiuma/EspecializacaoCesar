{
  "nbformat": 4,
  "nbformat_minor": 0,
  "metadata": {
    "colab": {
      "provenance": [],
      "authorship_tag": "ABX9TyOuF22E05/cn7E7QpjnlOw1",
      "include_colab_link": true
    },
    "kernelspec": {
      "name": "python3",
      "display_name": "Python 3"
    },
    "language_info": {
      "name": "python"
    }
  },
  "cells": [
    {
      "cell_type": "markdown",
      "metadata": {
        "id": "view-in-github",
        "colab_type": "text"
      },
      "source": [
        "<a href=\"https://colab.research.google.com/github/RogerioTiuma/EspecializacaoCesar/blob/main/Dados_Aula_01.ipynb\" target=\"_parent\"><img src=\"https://colab.research.google.com/assets/colab-badge.svg\" alt=\"Open In Colab\"/></a>"
      ]
    },
    {
      "cell_type": "code",
      "execution_count": 1,
      "metadata": {
        "colab": {
          "base_uri": "https://localhost:8080/"
        },
        "id": "P6QSDJVLoU9b",
        "outputId": "d18cbe95-de73-4d15-9df5-666b2b5b9d44"
      },
      "outputs": [
        {
          "output_type": "stream",
          "name": "stdout",
          "text": [
            "Olá, mundo\n"
          ]
        }
      ],
      "source": [
        "print(\"Olá, mundo\")"
      ]
    },
    {
      "cell_type": "markdown",
      "source": [
        "# Numpy"
      ],
      "metadata": {
        "id": "DHRmYzh0sZ-r"
      }
    },
    {
      "cell_type": "code",
      "source": [
        "import time\n",
        "start_time = time.time()\n",
        "a = range(10000000)\n",
        "b = range(10000000)\n",
        "c = []\n",
        "\n",
        "for i in range(len(a)):\n",
        "  c.append(a[i]+b[i])\n",
        "\n",
        "elpased_time = time.time() - start_time\n",
        "print(elpased_time)"
      ],
      "metadata": {
        "colab": {
          "base_uri": "https://localhost:8080/"
        },
        "id": "kr-uIxuRsfUl",
        "outputId": "7cab4bcb-7dec-45ee-8226-8741ee2d3fa8"
      },
      "execution_count": 7,
      "outputs": [
        {
          "output_type": "stream",
          "name": "stdout",
          "text": [
            "3.923311471939087\n"
          ]
        }
      ]
    },
    {
      "cell_type": "code",
      "source": [
        "import numpy as np\n",
        "\n",
        "start_time = time.time()\n",
        "a = np.arange(10000000)\n",
        "b = np.arange(10000000)\n",
        "c = []\n",
        "\n",
        "c = a + b\n",
        "\n",
        "elpased_time = time.time() - start_time\n",
        "print(elpased_time)"
      ],
      "metadata": {
        "colab": {
          "base_uri": "https://localhost:8080/"
        },
        "id": "EiQQ2MVXtJNJ",
        "outputId": "41c2baa4-f102-4e12-d0a0-976ff48f8d89"
      },
      "execution_count": 14,
      "outputs": [
        {
          "output_type": "stream",
          "name": "stdout",
          "text": [
            "0.08025550842285156\n"
          ]
        }
      ]
    },
    {
      "cell_type": "markdown",
      "source": [
        "# Criação de Arrays"
      ],
      "metadata": {
        "id": "JZKsxrXzu8Wd"
      }
    },
    {
      "cell_type": "code",
      "source": [
        "#Criar um array NumPy a partir de uma lista\n",
        "lista = range(1,6)\n",
        "array_lista = np.array(lista)\n",
        "print(f\"Array criado a partir de uma lista: {array_lista}\")"
      ],
      "metadata": {
        "colab": {
          "base_uri": "https://localhost:8080/"
        },
        "id": "jqQnO6LlvAZq",
        "outputId": "d80bb969-5cb8-4a41-8da5-38906b0505e0"
      },
      "execution_count": 15,
      "outputs": [
        {
          "output_type": "stream",
          "name": "stdout",
          "text": [
            "Array criado a partir de uma lista: [1 2 3 4 5]\n"
          ]
        }
      ]
    },
    {
      "cell_type": "code",
      "source": [
        "# Criar um array de zeros com forma específica (3x4)\n",
        "array_zero = np.zeros((3,4))\n",
        "print(array_zero)"
      ],
      "metadata": {
        "id": "BsdAs4kIwKw0"
      },
      "execution_count": null,
      "outputs": []
    },
    {
      "cell_type": "code",
      "source": [
        "# Criar um array de uns com forma específica (2x2)\n",
        "array_uns = np.ones((2,2))\n",
        "print(array_uns)"
      ],
      "metadata": {
        "colab": {
          "base_uri": "https://localhost:8080/"
        },
        "id": "TrM9aUgcwfDd",
        "outputId": "06d29547-4540-4e39-800c-3a4afacfd209"
      },
      "execution_count": 18,
      "outputs": [
        {
          "output_type": "stream",
          "name": "stdout",
          "text": [
            "[[1. 1.]\n",
            " [1. 1.]]\n"
          ]
        }
      ]
    },
    {
      "cell_type": "code",
      "source": [
        "# Criar um array com valores igualmente espaçados no intervalo de 8 à 9 (exclusivo)\n",
        "array_arange = np.arange(0,15,2)\n",
        "print(array_arange)"
      ],
      "metadata": {
        "colab": {
          "base_uri": "https://localhost:8080/"
        },
        "id": "pCSLb3Igw8hy",
        "outputId": "5e4c493f-f93f-4b74-b5bf-dc5c34e82ab4"
      },
      "execution_count": 23,
      "outputs": [
        {
          "output_type": "stream",
          "name": "stdout",
          "text": [
            "[ 0  2  4  6  8 10 12 14]\n"
          ]
        }
      ]
    },
    {
      "cell_type": "code",
      "source": [
        "# Criar um array com valores igualmente espaçados entre 0 e 1 com 5 elementos\n",
        "array_linspace = np.linspace(0,1,5)\n",
        "print(array_linspace)"
      ],
      "metadata": {
        "colab": {
          "base_uri": "https://localhost:8080/"
        },
        "id": "xViLAYi5xh57",
        "outputId": "646d6016-db08-4b35-938e-42ae6750b061"
      },
      "execution_count": 25,
      "outputs": [
        {
          "output_type": "stream",
          "name": "stdout",
          "text": [
            "[0.   0.25 0.5  0.75 1.  ]\n"
          ]
        }
      ]
    },
    {
      "cell_type": "markdown",
      "source": [
        "# Operações Matemáticas"
      ],
      "metadata": {
        "id": "4__tgIKLyQTK"
      }
    },
    {
      "cell_type": "code",
      "source": [
        "#Criando dois arrays\n",
        "array1 = np.array([1,2,3])\n",
        "array2 = np.array([4,5,6])"
      ],
      "metadata": {
        "id": "7svMJ7ndykdB"
      },
      "execution_count": 27,
      "outputs": []
    },
    {
      "cell_type": "code",
      "source": [
        "# Adição\n",
        "soma = array1 + array2\n",
        "print(f\"Soma: {soma}\")"
      ],
      "metadata": {
        "colab": {
          "base_uri": "https://localhost:8080/"
        },
        "id": "gkgiOJpuy6oc",
        "outputId": "934bf794-dc84-4f43-ef5c-6c50c997b43f"
      },
      "execution_count": 28,
      "outputs": [
        {
          "output_type": "stream",
          "name": "stdout",
          "text": [
            "Soma: [5 7 9]\n"
          ]
        }
      ]
    },
    {
      "cell_type": "code",
      "source": [
        "# Subtração\n",
        "subtracao = array1 - array2\n",
        "print(f\"Subtracao: {subtracao}\")"
      ],
      "metadata": {
        "colab": {
          "base_uri": "https://localhost:8080/"
        },
        "id": "wuMOkPi6zKG4",
        "outputId": "e1d6f639-65b8-4302-c554-f6e31e05a31b"
      },
      "execution_count": 29,
      "outputs": [
        {
          "output_type": "stream",
          "name": "stdout",
          "text": [
            "Soma: [-3 -3 -3]\n"
          ]
        }
      ]
    },
    {
      "cell_type": "code",
      "source": [
        "# Multiplicação\n",
        "multiplicacao = array1 * array2\n",
        "print(f\"Multiplicacao: {multiplicacao}\")"
      ],
      "metadata": {
        "colab": {
          "base_uri": "https://localhost:8080/"
        },
        "id": "bXkN0keSz8xa",
        "outputId": "6fa199a5-b4d7-44f9-92c5-1dade8decc12"
      },
      "execution_count": 30,
      "outputs": [
        {
          "output_type": "stream",
          "name": "stdout",
          "text": [
            "Multiplicacao: [ 4 10 18]\n"
          ]
        }
      ]
    },
    {
      "cell_type": "code",
      "source": [
        "# Produto escalar\n",
        "produto_escalar = np.dot(array1, array2)\n",
        "print(f\"Produto escalar: {produto_escalar}\")"
      ],
      "metadata": {
        "colab": {
          "base_uri": "https://localhost:8080/"
        },
        "id": "Cu6NPkwN0jWD",
        "outputId": "2a283369-3cee-4c21-a122-d7b2970aae5e"
      },
      "execution_count": 31,
      "outputs": [
        {
          "output_type": "stream",
          "name": "stdout",
          "text": [
            "Produto escalar: 32\n"
          ]
        }
      ]
    },
    {
      "cell_type": "markdown",
      "source": [
        "# Indexação e Fatiamento"
      ],
      "metadata": {
        "id": "-3aG_8vl1iL4"
      }
    },
    {
      "cell_type": "code",
      "source": [
        "# Crie um array NumPy com valores de 0 a 9\n",
        "arr = np.arange(10,20)\n",
        "print(arr)"
      ],
      "metadata": {
        "colab": {
          "base_uri": "https://localhost:8080/"
        },
        "id": "q6Gy5a9O1neR",
        "outputId": "13ce2b69-9161-4392-8b4b-4624899bfffd"
      },
      "execution_count": 33,
      "outputs": [
        {
          "output_type": "stream",
          "name": "stdout",
          "text": [
            "[10 11 12 13 14 15 16 17 18 19]\n"
          ]
        }
      ]
    },
    {
      "cell_type": "code",
      "source": [
        "# Acesso ao elemento na posição 5 (índice 5)\n",
        "elemento = arr[5]\n",
        "print(elemento)"
      ],
      "metadata": {
        "colab": {
          "base_uri": "https://localhost:8080/"
        },
        "id": "KII_Q-78134h",
        "outputId": "f5572b74-34d7-4eb4-b4c4-9f1b5e38664a"
      },
      "execution_count": 34,
      "outputs": [
        {
          "output_type": "stream",
          "name": "stdout",
          "text": [
            "15\n"
          ]
        }
      ]
    },
    {
      "cell_type": "code",
      "source": [
        "# Fatiamento: Selecione um subconjunto do array\n",
        "# Do índice 2 (inclusivo) ao índice 7 (exclusivo)\n",
        "subconjunto = arr[2:7]\n",
        "print(subconjunto)"
      ],
      "metadata": {
        "colab": {
          "base_uri": "https://localhost:8080/"
        },
        "id": "itlHfneA2eEX",
        "outputId": "21055b66-c5ad-4db7-f0e5-28bb51329524"
      },
      "execution_count": 35,
      "outputs": [
        {
          "output_type": "stream",
          "name": "stdout",
          "text": [
            "[12 13 14 15 16]\n"
          ]
        }
      ]
    },
    {
      "cell_type": "code",
      "source": [
        "# Fatiamento: Selecione um subconjunto do array\n",
        "# Do índice 2 (inclusivo) ao índice 9 (exclusivo) com passo 2\n",
        "subconjunto_passo = arr[2:9:2]\n",
        "print(subconjunto_passo)"
      ],
      "metadata": {
        "colab": {
          "base_uri": "https://localhost:8080/"
        },
        "id": "9GB3mTCO2xxN",
        "outputId": "98821dd5-ed92-466c-a71d-7f8b2c9362a1"
      },
      "execution_count": 36,
      "outputs": [
        {
          "output_type": "stream",
          "name": "stdout",
          "text": [
            "[12 14 16 18]\n"
          ]
        }
      ]
    },
    {
      "cell_type": "markdown",
      "source": [
        "# Funções Estatísticas"
      ],
      "metadata": {
        "id": "B2x37vE13Hd4"
      }
    },
    {
      "cell_type": "code",
      "source": [
        "# Crie um array NumPy com valores de 0 a 9\n",
        "arr = np.arange(10)\n",
        "print(arr)"
      ],
      "metadata": {
        "colab": {
          "base_uri": "https://localhost:8080/"
        },
        "id": "ogcZ7jih3UzN",
        "outputId": "f2735f4c-8080-4ee2-a8bb-d883ca87d014"
      },
      "execution_count": 38,
      "outputs": [
        {
          "output_type": "stream",
          "name": "stdout",
          "text": [
            "[0 1 2 3 4 5 6 7 8 9]\n"
          ]
        }
      ]
    },
    {
      "cell_type": "code",
      "source": [
        "# Selecionando o menor valor\n",
        "\n",
        "menor = np.min(arr)\n",
        "index_menor = np.argmin(arr)\n",
        "print(f\"Menor valor: {menor} no índice: {index_menor}\")"
      ],
      "metadata": {
        "colab": {
          "base_uri": "https://localhost:8080/"
        },
        "id": "6YwNOx7i3ZUh",
        "outputId": "690b43ec-a050-4b8f-944b-f1b7324970a4"
      },
      "execution_count": 40,
      "outputs": [
        {
          "output_type": "stream",
          "name": "stdout",
          "text": [
            "Menor valor: 0 no índice: 0\n"
          ]
        }
      ]
    },
    {
      "cell_type": "code",
      "source": [
        "# Selecionando o maior valor\n",
        "\n",
        "maior = np.max(arr)\n",
        "index_maior = np.argmax(arr)\n",
        "print(f\"Menor valor: {maior} no índice: {index_maior}\")"
      ],
      "metadata": {
        "colab": {
          "base_uri": "https://localhost:8080/"
        },
        "id": "V4_56rrl3yDe",
        "outputId": "3493bb97-2275-4b0b-f446-55f239f5a4f9"
      },
      "execution_count": 42,
      "outputs": [
        {
          "output_type": "stream",
          "name": "stdout",
          "text": [
            "Menor valor: 9 no índice: 9\n"
          ]
        }
      ]
    },
    {
      "cell_type": "code",
      "source": [
        "# Calculando a média\n",
        "\n",
        "media = np.mean(arr)\n",
        "print(f\"Média: {media}\")"
      ],
      "metadata": {
        "colab": {
          "base_uri": "https://localhost:8080/"
        },
        "id": "egtlSVyG3_MR",
        "outputId": "45799245-b17e-452c-d7b6-fe5a4088a129"
      },
      "execution_count": 43,
      "outputs": [
        {
          "output_type": "stream",
          "name": "stdout",
          "text": [
            "Média: 4.5\n"
          ]
        }
      ]
    },
    {
      "cell_type": "code",
      "source": [
        "# Calculando a mediana\n",
        "\n",
        "mediana = np.median(arr)\n",
        "print(f\"Mediana: {mediana}\")"
      ],
      "metadata": {
        "colab": {
          "base_uri": "https://localhost:8080/"
        },
        "id": "D0fwAFwM4LBc",
        "outputId": "635aa9ed-eab2-49ae-db6e-728c3acfae45"
      },
      "execution_count": 44,
      "outputs": [
        {
          "output_type": "stream",
          "name": "stdout",
          "text": [
            "Mediana: 4.5\n"
          ]
        }
      ]
    },
    {
      "cell_type": "code",
      "source": [
        "# Calculando o desvio padrão\n",
        "\n",
        "desvio_padrao = np.std(arr)\n",
        "print(f\"Desvio Padrão: {desvio_padrao}\")"
      ],
      "metadata": {
        "colab": {
          "base_uri": "https://localhost:8080/"
        },
        "id": "1YxVQTbB4Sn6",
        "outputId": "333d73af-dc75-4cc6-bc38-2daf53c5da0c"
      },
      "execution_count": 45,
      "outputs": [
        {
          "output_type": "stream",
          "name": "stdout",
          "text": [
            "Desvio Padrão: 2.8722813232690143\n"
          ]
        }
      ]
    },
    {
      "cell_type": "code",
      "source": [
        "# Calculando a soma\n",
        "\n",
        "soma = np.sum(arr)\n",
        "print(f\"Soma: {soma}\")"
      ],
      "metadata": {
        "colab": {
          "base_uri": "https://localhost:8080/"
        },
        "id": "9D0dlV8s4ipK",
        "outputId": "a7e78efd-bc87-4d99-acc6-6b487a2a8b47"
      },
      "execution_count": 46,
      "outputs": [
        {
          "output_type": "stream",
          "name": "stdout",
          "text": [
            "Soma: 45\n"
          ]
        }
      ]
    },
    {
      "cell_type": "markdown",
      "source": [
        "# Manipulação de Arrays"
      ],
      "metadata": {
        "id": "9aogqheZ4vbG"
      }
    },
    {
      "cell_type": "code",
      "source": [
        "# Crie um array NumPy com valores de 0 a 9\n",
        "arr = np.arange(10)\n",
        "print(arr)"
      ],
      "metadata": {
        "colab": {
          "base_uri": "https://localhost:8080/"
        },
        "id": "rl84QQo54urS",
        "outputId": "0f12bd43-c181-4cc7-b8ce-377879d5588c"
      },
      "execution_count": 47,
      "outputs": [
        {
          "output_type": "stream",
          "name": "stdout",
          "text": [
            "[0 1 2 3 4 5 6 7 8 9]\n"
          ]
        }
      ]
    },
    {
      "cell_type": "code",
      "source": [
        "# Redimensionando o array para uma matriz 2x5\n",
        "matriz = np.reshape(arr, (10,1))\n",
        "print(matriz)"
      ],
      "metadata": {
        "colab": {
          "base_uri": "https://localhost:8080/"
        },
        "id": "NW_9ZaZR5BNu",
        "outputId": "8f8b65ef-731e-4b7c-f6d2-cac52031d18f"
      },
      "execution_count": 58,
      "outputs": [
        {
          "output_type": "stream",
          "name": "stdout",
          "text": [
            "[[0]\n",
            " [1]\n",
            " [2]\n",
            " [3]\n",
            " [4]\n",
            " [5]\n",
            " [6]\n",
            " [7]\n",
            " [8]\n",
            " [9]]\n"
          ]
        }
      ]
    },
    {
      "cell_type": "code",
      "source": [
        "# Crie outro array numpy\n",
        "arr2 = np.arange(10,20)\n",
        "print(arr2)"
      ],
      "metadata": {
        "colab": {
          "base_uri": "https://localhost:8080/"
        },
        "id": "OQDFacC75qzd",
        "outputId": "04dc53ad-08e0-4ef7-f147-d0b9f3144acb"
      },
      "execution_count": 59,
      "outputs": [
        {
          "output_type": "stream",
          "name": "stdout",
          "text": [
            "[10 11 12 13 14 15 16 17 18 19]\n"
          ]
        }
      ]
    },
    {
      "cell_type": "markdown",
      "source": [
        "# Gerador de Números Aleatórios"
      ],
      "metadata": {
        "id": "MBx1DJSp7Too"
      }
    },
    {
      "cell_type": "code",
      "source": [
        "# Gerando 5 números aleatórios entre 0 e 1\n",
        "random_numbers = np.random.rand(5)\n",
        "print(random_numbers)"
      ],
      "metadata": {
        "colab": {
          "base_uri": "https://localhost:8080/"
        },
        "id": "U-ZCDccE7YNa",
        "outputId": "24fb4116-b137-47fd-a44a-3c0be9d5c862"
      },
      "execution_count": 62,
      "outputs": [
        {
          "output_type": "stream",
          "name": "stdout",
          "text": [
            "[0.29811051 0.70280827 0.13693732 0.09967484 0.507266  ]\n"
          ]
        }
      ]
    },
    {
      "cell_type": "code",
      "source": [
        "# Gerando 5 números aleatórios em uma distribuição normal\n",
        "random_numbers = np.random.randn(5)\n",
        "print(random_numbers)"
      ],
      "metadata": {
        "colab": {
          "base_uri": "https://localhost:8080/"
        },
        "id": "PtDWzAmG7s8y",
        "outputId": "08e6aba4-33e3-4786-f63a-8eaa6ef3820e"
      },
      "execution_count": 63,
      "outputs": [
        {
          "output_type": "stream",
          "name": "stdout",
          "text": [
            "[ 0.0888997  -0.83579277 -1.20749433 -0.00536481  0.08244528]\n"
          ]
        }
      ]
    },
    {
      "cell_type": "code",
      "source": [
        "# Gerando 5 números inteiros aleatórios entre 1 e 10\n",
        "random_numbers = np.random.randint(1,11,5)\n",
        "print(random_numbers)"
      ],
      "metadata": {
        "colab": {
          "base_uri": "https://localhost:8080/"
        },
        "id": "cCXsXuRo76Yz",
        "outputId": "72f29da1-2750-46bc-bd6d-e5d9f18a35b1"
      },
      "execution_count": 65,
      "outputs": [
        {
          "output_type": "stream",
          "name": "stdout",
          "text": [
            "[2 7 2 1 6]\n"
          ]
        }
      ]
    },
    {
      "cell_type": "code",
      "source": [
        "# Gerando uma matriz 3x4 com números aleatórios entre 1 e 10\n",
        "random_numbers = np.random.randint(1,11,(3,4))\n",
        "print(random_numbers)"
      ],
      "metadata": {
        "colab": {
          "base_uri": "https://localhost:8080/"
        },
        "id": "sI2L0YrE8Rdd",
        "outputId": "1639e7fd-947a-4bbd-cc2b-ddb65ea717c4"
      },
      "execution_count": 66,
      "outputs": [
        {
          "output_type": "stream",
          "name": "stdout",
          "text": [
            "[[ 6  7  5  2]\n",
            " [ 8  8  5 10]\n",
            " [ 5  6 10  2]]\n"
          ]
        }
      ]
    },
    {
      "cell_type": "code",
      "source": [
        "# Gerando matriz de números aleatórios reais entre 10 e 40 (uniforme)\n",
        "random_numbers = np.random.uniform(10,40,30)\n",
        "random_numbers = np.round(random_numbers, 2)\n",
        "print(random_numbers)"
      ],
      "metadata": {
        "colab": {
          "base_uri": "https://localhost:8080/"
        },
        "id": "l1-jj4Xs832x",
        "outputId": "d6b42d35-f090-42d7-cb43-900d84f7daa7"
      },
      "execution_count": 70,
      "outputs": [
        {
          "output_type": "stream",
          "name": "stdout",
          "text": [
            "[28.11 21.05 26.46 13.7  23.81 18.31 11.69 27.92 15.66 13.16 31.66 19.12\n",
            " 30.08 30.07 21.07 34.64 13.27 35.23 13.97 25.54 38.92 17.85 38.1  33.45\n",
            " 30.05 31.03 14.69 18.15 34.16 33.79]\n"
          ]
        }
      ]
    },
    {
      "cell_type": "markdown",
      "source": [
        "# Álgebra Linear"
      ],
      "metadata": {
        "id": "l5xLOj6Z9ktb"
      }
    },
    {
      "cell_type": "code",
      "source": [
        "# Calcular as diferenças discretas entre elementos consecutivo em um array\n",
        "arr = np.array([2, 4, 7, 11, 16])\n",
        "differences = np.diff(arr)\n",
        "print(differences)"
      ],
      "metadata": {
        "colab": {
          "base_uri": "https://localhost:8080/"
        },
        "id": "tjPJah7r9sKs",
        "outputId": "f67185d1-5ced-4fa3-cdf7-307aeb6dfe5b"
      },
      "execution_count": 71,
      "outputs": [
        {
          "output_type": "stream",
          "name": "stdout",
          "text": [
            "[2 3 4 5]\n"
          ]
        }
      ]
    },
    {
      "cell_type": "code",
      "source": [
        "# Definindo uma matrz\n",
        "matriz = np.array([[2,3],[1,4]])\n",
        "\n",
        "# Calculando a matriz inversa\n",
        "matriz_inversa = np.linalg.inv(matriz)\n",
        "\n",
        "print(matriz)\n",
        "print(matriz_inversa)"
      ],
      "metadata": {
        "colab": {
          "base_uri": "https://localhost:8080/"
        },
        "id": "w5K87Ryk-A7h",
        "outputId": "d35df785-c70a-49d9-b286-099cd31ef8fd"
      },
      "execution_count": 72,
      "outputs": [
        {
          "output_type": "stream",
          "name": "stdout",
          "text": [
            "[[2 3]\n",
            " [1 4]]\n",
            "[[ 0.8 -0.6]\n",
            " [-0.2  0.4]]\n"
          ]
        }
      ]
    },
    {
      "cell_type": "code",
      "source": [
        "# Calculando o determinante\n",
        "\n",
        "determinante = np.linalg.det(matriz)\n",
        "print(determinante)"
      ],
      "metadata": {
        "colab": {
          "base_uri": "https://localhost:8080/"
        },
        "id": "ToXui0qF-fm8",
        "outputId": "50717c81-58ac-4b2a-854f-04b1319635eb"
      },
      "execution_count": 73,
      "outputs": [
        {
          "output_type": "stream",
          "name": "stdout",
          "text": [
            "5.000000000000001\n"
          ]
        }
      ]
    },
    {
      "cell_type": "markdown",
      "source": [
        "# Funções de Comparações"
      ],
      "metadata": {
        "id": "_SfzaKEeChP2"
      }
    },
    {
      "cell_type": "code",
      "source": [
        "# Exemplo Básico\n",
        "arr = np.array([1,2,3,4,5,6])\n",
        "\n",
        "# Definir uma condição (True para elementos maiores que 3)\n",
        "condicao = arr > 3\n",
        "print(condicao)\n",
        "\n",
        "# Usar np.where() para obter os índices que atendem à condição\n",
        "resultado = np.where(condicao)\n",
        "print(resultado)\n",
        "\n",
        "# Ou\n",
        "resultado = np.where(arr>3)\n",
        "print(resultado)"
      ],
      "metadata": {
        "colab": {
          "base_uri": "https://localhost:8080/"
        },
        "id": "uisTaayiCky0",
        "outputId": "eb3f6c34-9467-4df6-b8a6-5b13344aedbf"
      },
      "execution_count": 77,
      "outputs": [
        {
          "output_type": "stream",
          "name": "stdout",
          "text": [
            "[False False False  True  True  True]\n",
            "(array([3, 4, 5]),)\n",
            "(array([3, 4, 5]),)\n"
          ]
        }
      ]
    },
    {
      "cell_type": "code",
      "source": [
        "# Exemplo de sunstituição\n",
        "\n",
        "arr = np.array([1,2,3,4,5,6])\n",
        "\n",
        "# Usar np.where() para substituir valores com base em uma condição\n",
        "new_arr = np.where(arr < 3, arr, -1)\n",
        "print(new_arr)"
      ],
      "metadata": {
        "colab": {
          "base_uri": "https://localhost:8080/"
        },
        "id": "TXEZ4UnaDrwW",
        "outputId": "d8c3f601-1039-4e36-8a7c-aebf48514478"
      },
      "execution_count": 78,
      "outputs": [
        {
          "output_type": "stream",
          "name": "stdout",
          "text": [
            "[ 1  2 -1 -1 -1 -1]\n"
          ]
        }
      ]
    },
    {
      "cell_type": "code",
      "source": [
        "# Exemplo com condições multiplas\n",
        "arr = np.array([1,2,3,4,5,6])\n",
        "\n",
        "# usar np.where() com condições múltiplas\n",
        "new_arr = np.where(arr<3, -1, np.where(arr > 4, 10, arr))\n",
        "print(new_arr)"
      ],
      "metadata": {
        "colab": {
          "base_uri": "https://localhost:8080/"
        },
        "id": "sLZJNjg-EO8f",
        "outputId": "4f1be84d-1c70-4e95-fe2a-7a1707a6db96"
      },
      "execution_count": 80,
      "outputs": [
        {
          "output_type": "stream",
          "name": "stdout",
          "text": [
            "[-1 -1  3  4 10 10]\n"
          ]
        }
      ]
    },
    {
      "cell_type": "markdown",
      "source": [
        "## Seleção e Filtragem"
      ],
      "metadata": {
        "id": "TA-5GSiRFX9I"
      }
    },
    {
      "cell_type": "code",
      "source": [
        "# Criando um array de exemplo\n",
        "arr = np.arange(1,11)\n",
        "print(arr)\n",
        "# Selecione apenas os elementos maiores que 5\n",
        "selecionados = arr[arr>5]\n",
        "print(selecionados)"
      ],
      "metadata": {
        "colab": {
          "base_uri": "https://localhost:8080/"
        },
        "id": "x7DvUCGSEO5S",
        "outputId": "2b0bf9bd-4af1-476a-fc85-4efc09cbb71a"
      },
      "execution_count": 82,
      "outputs": [
        {
          "output_type": "stream",
          "name": "stdout",
          "text": [
            "[ 1  2  3  4  5  6  7  8  9 10]\n",
            "[ 6  7  8  9 10]\n"
          ]
        }
      ]
    },
    {
      "cell_type": "code",
      "source": [
        "# Selecionando elementos pares\n",
        "filtrados = arr[arr % 2 == 0]\n",
        "print(filtrados)"
      ],
      "metadata": {
        "colab": {
          "base_uri": "https://localhost:8080/"
        },
        "id": "zUPnX2TjFanZ",
        "outputId": "b13d4cd7-54be-47f2-991b-297b2f65e8d3"
      },
      "execution_count": 83,
      "outputs": [
        {
          "output_type": "stream",
          "name": "stdout",
          "text": [
            "[ 2  4  6  8 10]\n"
          ]
        }
      ]
    },
    {
      "cell_type": "code",
      "source": [
        "# Selecionando elementos dentro de um intervalo\n",
        "intervalo = arr[(arr >= 3) & (arr <= 7)]\n",
        "print(intervalo)"
      ],
      "metadata": {
        "colab": {
          "base_uri": "https://localhost:8080/"
        },
        "id": "r4SBZ7rGGENS",
        "outputId": "39c929f3-ee16-4910-b9e9-fe1d94d83cc9"
      },
      "execution_count": 85,
      "outputs": [
        {
          "output_type": "stream",
          "name": "stdout",
          "text": [
            "[3 4 5 6 7]\n"
          ]
        }
      ]
    },
    {
      "cell_type": "markdown",
      "source": [
        "Importe NumPy como np\n",
        "\n",
        "Crie uma array de 10 zeros\n",
        "\n",
        "Crie um array de inteiros de 10 até 50\n",
        "\n",
        "Crie um array dos números pares de 10 até 50\n",
        "\n",
        "Criei uma matriz 3x3 com valores variando de 0 até 8\n",
        "\n",
        "Crie uma matriz identidade 3x3\n",
        "\n",
        "Use NumPy para gerar números aleatórios entre 0 e 1\n",
        "\n",
        "Inserir 5 números inteiros em um array a partir do input()"
      ],
      "metadata": {
        "id": "Qpto9bGKG36_"
      }
    },
    {
      "cell_type": "code",
      "source": [
        "import numpy as np"
      ],
      "metadata": {
        "id": "QmtZ03ylHIDj"
      },
      "execution_count": 86,
      "outputs": []
    },
    {
      "cell_type": "code",
      "source": [
        "array_inteiros = np.arange(10,51,2)\n",
        "print(array_inteiros)"
      ],
      "metadata": {
        "colab": {
          "base_uri": "https://localhost:8080/"
        },
        "id": "7HUQFxtqHczv",
        "outputId": "bfc5c1c1-c9cd-45c1-86dc-fc985f507637"
      },
      "execution_count": 88,
      "outputs": [
        {
          "output_type": "stream",
          "name": "stdout",
          "text": [
            "[10 12 14 16 18 20 22 24 26 28 30 32 34 36 38 40 42 44 46 48 50]\n"
          ]
        }
      ]
    },
    {
      "cell_type": "code",
      "source": [
        "matriz_3_3 = np.arange(9).reshape(3,3)\n",
        "print(matriz_3_3)"
      ],
      "metadata": {
        "colab": {
          "base_uri": "https://localhost:8080/"
        },
        "id": "7BUyswIJHoA4",
        "outputId": "fd3c9c8c-1796-4a01-efef-451a5b88c7be"
      },
      "execution_count": 90,
      "outputs": [
        {
          "output_type": "stream",
          "name": "stdout",
          "text": [
            "[[0 1 2]\n",
            " [3 4 5]\n",
            " [6 7 8]]\n"
          ]
        }
      ]
    },
    {
      "cell_type": "code",
      "source": [
        "matriz_identidade = np.eye(3)\n",
        "print(matriz_identidade)"
      ],
      "metadata": {
        "colab": {
          "base_uri": "https://localhost:8080/"
        },
        "id": "zhWvYAg5ISzy",
        "outputId": "5cb13762-6509-4b6e-e86c-d3d8b300ffee"
      },
      "execution_count": 92,
      "outputs": [
        {
          "output_type": "stream",
          "name": "stdout",
          "text": [
            "[[1. 0. 0.]\n",
            " [0. 1. 0.]\n",
            " [0. 0. 1.]]\n"
          ]
        }
      ]
    },
    {
      "cell_type": "code",
      "source": [
        "random_numbers = np.random.rand(1,11,5)\n",
        "print(random_numbers)"
      ],
      "metadata": {
        "colab": {
          "base_uri": "https://localhost:8080/"
        },
        "id": "__lUNv8bJ3Z8",
        "outputId": "c60f3807-a98f-4f05-ff92-09b86d488517"
      },
      "execution_count": 95,
      "outputs": [
        {
          "output_type": "stream",
          "name": "stdout",
          "text": [
            "[[[0.91679328 0.71382841 0.88348355 0.07670701 0.68204596]\n",
            "  [0.49272079 0.80471348 0.67912921 0.11977653 0.45329599]\n",
            "  [0.76781506 0.42089336 0.81615995 0.32910856 0.61459305]\n",
            "  [0.25034363 0.94273186 0.57072506 0.14189719 0.57677628]\n",
            "  [0.22720651 0.56507235 0.77526876 0.92580374 0.4959362 ]\n",
            "  [0.48461594 0.35726314 0.8382965  0.18374776 0.05570593]\n",
            "  [0.76981706 0.74853383 0.61892622 0.81315412 0.74740363]\n",
            "  [0.53958235 0.01074977 0.51493911 0.79973651 0.45419456]\n",
            "  [0.97428608 0.32326245 0.21943799 0.98398075 0.14814902]\n",
            "  [0.30245311 0.85919913 0.31066239 0.432165   0.19098212]\n",
            "  [0.92162435 0.50519166 0.48965047 0.58042785 0.15848337]]]\n"
          ]
        }
      ]
    },
    {
      "cell_type": "code",
      "source": [
        "lista = []\n",
        "for i in range(5):\n",
        "  lista.append(int(input(\"Digite um número: \")))\n",
        "\n",
        "arr = np.array(lista)\n"
      ],
      "metadata": {
        "id": "W-zLX-AvKF_U"
      },
      "execution_count": null,
      "outputs": []
    },
    {
      "cell_type": "code",
      "source": [
        "arr = np.array([int(input(\"Digite um número: \")) for i in range(5)])\n",
        "print(arr)"
      ],
      "metadata": {
        "colab": {
          "base_uri": "https://localhost:8080/"
        },
        "id": "xlzP0hX_KZeS",
        "outputId": "279eba14-21fd-43cb-df5a-f0bccc773be6"
      },
      "execution_count": 99,
      "outputs": [
        {
          "output_type": "stream",
          "name": "stdout",
          "text": [
            "Digite um número: 5\n",
            "Digite um número: 6\n",
            "Digite um número: 7\n",
            "Digite um número: 8\n",
            "Digite um número: 10\n",
            "[ 5  6  7  8 10]\n"
          ]
        }
      ]
    }
  ]
}