{
  "nbformat": 4,
  "nbformat_minor": 0,
  "metadata": {
    "colab": {
      "provenance": [],
      "include_colab_link": true
    },
    "kernelspec": {
      "name": "python3",
      "display_name": "Python 3"
    },
    "language_info": {
      "name": "python"
    }
  },
  "cells": [
    {
      "cell_type": "markdown",
      "metadata": {
        "id": "view-in-github",
        "colab_type": "text"
      },
      "source": [
        "<a href=\"https://colab.research.google.com/github/RogerioTiuma/EspecializacaoCesar/blob/main/Exerc%C3%ADcio_01_Numpy.ipynb\" target=\"_parent\"><img src=\"https://colab.research.google.com/assets/colab-badge.svg\" alt=\"Open In Colab\"/></a>"
      ]
    },
    {
      "cell_type": "markdown",
      "source": [
        "# Lista de Exercício 01 - Numpy"
      ],
      "metadata": {
        "id": "hcsPj2qmO4f9"
      }
    },
    {
      "cell_type": "markdown",
      "source": [
        "Nome dos integrantes do grupo: (Grupo:\n",
        "Allan /\n",
        "Fábio /\n",
        "Rogério /\n",
        "Ruy)"
      ],
      "metadata": {
        "id": "fR5Kca_oM7xN"
      }
    },
    {
      "cell_type": "markdown",
      "source": [
        "Questão 01. Você é um pesquisador de clima e deseja registrar as temperaturas diárias de uma cidade. Peça ao usuário para inserir as temperaturas de 7 dias consecutivos e, em seguida, exiba a temperatura média, a temperatura máxima, mínima, o dia em que a temperatura foi mais baixa e o dia que a temperatura foi mais alta."
      ],
      "metadata": {
        "id": "cL1RAJIj-uA4"
      }
    },
    {
      "cell_type": "code",
      "source": [
        "arr = np.array([float(input(\"Insira a temperatura do dia: \")) for i in range(7)])\n",
        "menor_valor = np.min(arr)\n",
        "index_menor = np.argmin(arr)\n",
        "maior_valor = np.max(arr)\n",
        "index_maior = np.argmax(arr)\n",
        "media = np.mean(arr)\n",
        "print(f\"A temperatura média é: {media}\")\n",
        "print(f\"Temperatura máxima:: {maior_valor}\")\n",
        "print(f\"Temperatura mínima: {menor_valor}\")\n",
        "print(f\"Temperatura máxima:: {maior_valor}\")\n",
        "print(f\"Temperatura mínima: {menor_valor}\")\n",
        "print(f\"Dia Temperatura máxima: {index_maior + 1}\")\n",
        "print(f\"Dia Temperatura mínima: {index_menor + 1}\")"
      ],
      "metadata": {
        "id": "DUNwvq4_-0by"
      },
      "execution_count": null,
      "outputs": []
    },
    {
      "cell_type": "markdown",
      "source": [
        "Questão 02. Você está trabalhando em um projeto de engenharia e deseja calcular a força resultante de várias forças. Solicite ao usuário para inserir os valores de 5 forças e, em seguida, calcule e exiba a força resultante (soma das forças)."
      ],
      "metadata": {
        "id": "tdXjflFA-7Om"
      }
    },
    {
      "cell_type": "code",
      "source": [
        "forcas = []\n",
        "\n",
        "for i in range(5):\n",
        "    forca = float(input(\"Insira o valor da força: \"))\n",
        "    forcas.append(forca)\n",
        "\n",
        "forcas_array = np.array(forcas)\n",
        "\n",
        "forca_resultante = np.sum(forcas_array)\n",
        "\n",
        "print(f\"Força resultante: {forca_resultante}\")"
      ],
      "metadata": {
        "id": "Ki3vrzWE--jC"
      },
      "execution_count": null,
      "outputs": []
    },
    {
      "cell_type": "markdown",
      "source": [
        "Questão 03. Você está trabalhando com um sistema de mapeamento e precisa realizar operações de indexação e fatiamento em um mapa representado por uma matriz. O mapa possui números inteiros aleatórios, e você precisa acessar os valores em posições específicas.\n",
        "\n",
        "1.   Crie uma matriz bidimensional (um mapa) com números inteiros aleatórios entre 1 e 100. Peça ao usuário para inserir o número de linhas e colunas para o mapa.\n",
        "2.   Solicite ao usuário que escolha uma linha e uma coluna no mapa.\n",
        "3.   Exiba o valor encontrado na posição escolhida."
      ],
      "metadata": {
        "id": "YOpnNOms--5e"
      }
    },
    {
      "cell_type": "code",
      "source": [
        "import numpy as np\n",
        "\n",
        "colunas = int(input(\"Insira o número de linhas: \"))\n",
        "linhas = int(input(\"Insira o número de colunas:\"))\n",
        "\n",
        "random_numbers = np.random.randint(1,100,(linhas,colunas))\n",
        "print(\"Mapa: \")\n",
        "print(random_numbers)\n",
        "\n",
        "dig_linhas = int(input(\"Insira a linha desejada: \"))\n",
        "dig_colunas = int(input(\"Insira a coluna desejada: \"))\n",
        "\n",
        "print(f\"Valor na posição ({dig_linhas}, {dig_colunas}): {random_numbers[dig_linhas, dig_colunas]}\")"
      ],
      "metadata": {
        "id": "gHFJjWDr_CKN",
        "colab": {
          "base_uri": "https://localhost:8080/"
        },
        "outputId": "c80170d6-bc04-482d-ae1f-0acddb7d8056"
      },
      "execution_count": 12,
      "outputs": [
        {
          "output_type": "stream",
          "name": "stdout",
          "text": [
            "Insira o número de linhas: 10\n",
            "Insira o número de colunas:10\n",
            "Mapa: \n",
            "[[36 97  4  5 85 56 49 28 89 41]\n",
            " [87 94 24 22 45 77 15 75 65 23]\n",
            " [90  5 41 88 24 12 81 16 53 13]\n",
            " [40 63 51 77 89 19  1 49 75 85]\n",
            " [28 87 92  2 62 80 54 33 65 28]\n",
            " [60 85 49 65  9 50 57 46 49 48]\n",
            " [41 80 88 74 41 80 52 78 10 22]\n",
            " [27 99 99 64 62 73  4 34 91 83]\n",
            " [76 84 80 48 19 93 91 23 95 40]\n",
            " [21 51 82 60 71 53 45 80 40 76]]\n",
            "Insira a linha desejada: 5\n",
            "Insira a coluna desejada: 2\n",
            "Valor na posição (5, 2): 49\n"
          ]
        }
      ]
    },
    {
      "cell_type": "markdown",
      "source": [
        "Questão 04. Você está trabalhando em um projeto de pesquisa de mercado e deseja calcular as estatísticas de idade de um grupo de pessoas. Peça ao usuário para inserir as idades de 10 pessoas e, em seguida, calcule e exiba a média, a mediana e o desvio padrão das idades."
      ],
      "metadata": {
        "id": "5fZIjtka_Qui"
      }
    },
    {
      "cell_type": "code",
      "source": [
        "idades = np.array([int(input(\"Insira a idade: \")) for i in range(10)])\n",
        "media = np.mean(idades)\n",
        "mediana = np.median(idades)\n",
        "desv_pad = np.std(idades)\n",
        "print(f\"Média das idades: {media}\")\n",
        "print(f\"Mediana das idades: {mediana}\")\n",
        "print(f\"Desvio padrão das idades: {desv_pad}\")"
      ],
      "metadata": {
        "id": "FVC-_fqP_XLp"
      },
      "execution_count": null,
      "outputs": []
    },
    {
      "cell_type": "markdown",
      "source": [
        "Questão 05. Você está construindo um simulador de lançamento de dados e deseja gerar números aleatórios. Peça ao usuário para inserir o número de vezes que deseja lançar um dado de 6 faces. Em seguida, gere e exiba um vetor NumPy com os resultados desses lançamentos."
      ],
      "metadata": {
        "id": "1H03Xs7B_X4c"
      }
    },
    {
      "cell_type": "code",
      "source": [
        "num_lancamentos = int(input(\"Insira o número de lançamentos: \"))\n",
        "\n",
        "resultado = np.random.randint(1, 7, num_lancamentos)\n",
        "\n",
        "print(f\"Resultados dos lançamentos:{resultado}\")"
      ],
      "metadata": {
        "id": "aIzTUrw3_bgB",
        "colab": {
          "base_uri": "https://localhost:8080/"
        },
        "outputId": "c3fccd4c-e7dd-4159-bd8c-8b257811c827"
      },
      "execution_count": 13,
      "outputs": [
        {
          "output_type": "stream",
          "name": "stdout",
          "text": [
            "Insira o número de lançamentos: 10\n",
            "Resultados dos lançamentos:[3 3 3 2 2 3 6 5 2 6]\n"
          ]
        }
      ]
    },
    {
      "cell_type": "markdown",
      "source": [
        "Questão 06. Você é um fotógrafo digital e está trabalhando em um projeto de processamento de imagens. Crie um array NumPy que represente uma imagem em escala de cinza com valores aleatórios. Normalize a imagem dividindo todos os valores pelo valor máximo possível (255). Exiba a imagem original e a imagem normalizada."
      ],
      "metadata": {
        "id": "_PQkALP5_cDL"
      }
    },
    {
      "cell_type": "code",
      "source": [],
      "metadata": {
        "id": "G0vUy3Tq_jNX"
      },
      "execution_count": null,
      "outputs": []
    },
    {
      "cell_type": "markdown",
      "source": [
        "Questão 07. Neste exercício, você atua como um analista financeiro que lida com dados de investimentos. Considere o preço de fechamento diário de ações de uma empresa ao longo de uma semana. Crie um programa que execute as seguintes operações:\n",
        "\n",
        "Solicite ao usuário que insira os preços de fechamento diários da ação da empresa durante uma semana (7 dias). Armazene esses preços em um array NumPy.\n",
        "\n",
        "1. Calcule o retorno diário da ação, que é a diferença entre o preço de fechamento atual e o preço de fechamento do dia anterior.\n",
        "2. Calcule o retorno médio diário da ação.\n",
        "3. Calcule o desvio padrão dos retornos diários, que é uma medida de volatilidade."
      ],
      "metadata": {
        "id": "62HOk9fQAvlT"
      }
    },
    {
      "cell_type": "code",
      "source": [],
      "metadata": {
        "id": "8oG-ztPRA_5C"
      },
      "execution_count": null,
      "outputs": []
    },
    {
      "cell_type": "markdown",
      "source": [
        "Questão 08. Você é responsável pelo controle de estoque de uma loja e deseja identificar quais produtos estão em baixo estoque. Crie um programa que permita ao usuário inserir o nome e a quantidade em estoque de vários produtos. Após inserir os dados de todos os produtos, o programa deverá usar o NumPy para identificar e exibir uma lista dos produtos que têm menos de uma quantidade específica em estoque.\n",
        "\n",
        "Instruções:\n",
        "\n",
        "1. Solicite ao usuário quantos produtos deseja inserir.\n",
        "2. Solicite a quantidade mínima em estoque que define o limite de \"baixo estoque\".\n",
        "3. Para cada produto, solicite o nome e a quantidade em estoque.\n",
        "4. Após inserir todos os produtos, use o NumPy para identificar os produtos que têm uma quantidade em estoque inferior à quantidade mínima especificada."
      ],
      "metadata": {
        "id": "72xl1FtxBAXS"
      }
    },
    {
      "cell_type": "code",
      "source": [],
      "metadata": {
        "id": "QhELuk6JCfa7"
      },
      "execution_count": null,
      "outputs": []
    }
  ]
}