{
  "nbformat": 4,
  "nbformat_minor": 0,
  "metadata": {
    "colab": {
      "provenance": []
    },
    "kernelspec": {
      "name": "python3",
      "display_name": "Python 3"
    },
    "language_info": {
      "name": "python"
    }
  },
  "cells": [
    {
      "cell_type": "markdown",
      "source": [
        "# Lista de Exercício 01 - Numpy"
      ],
      "metadata": {
        "id": "hcsPj2qmO4f9"
      }
    },
    {
      "cell_type": "markdown",
      "source": [
        "Nome dos integrantes do grupo: (Grupo:\n",
        "Allan /\n",
        "Fábio Cardoso /\n",
        "Rogério Fernandes /\n",
        "Ruy)"
      ],
      "metadata": {
        "id": "fR5Kca_oM7xN"
      }
    },
    {
      "cell_type": "markdown",
      "source": [
        "Primeiro vamos importar o numpy, que será utilizado em todas as questões"
      ],
      "metadata": {
        "id": "sL1QKovR0huc"
      }
    },
    {
      "cell_type": "code",
      "source": [
        "import numpy as np"
      ],
      "metadata": {
        "id": "LRBlzNRM0mo7"
      },
      "execution_count": null,
      "outputs": []
    },
    {
      "cell_type": "markdown",
      "source": [
        "Questão 01. Você é um pesquisador de clima e deseja registrar as temperaturas diárias de uma cidade. Peça ao usuário para inserir as temperaturas de 7 dias consecutivos e, em seguida, exiba a temperatura média, a temperatura máxima, mínima, o dia em que a temperatura foi mais baixa e o dia que a temperatura foi mais alta."
      ],
      "metadata": {
        "id": "cL1RAJIj-uA4"
      }
    },
    {
      "cell_type": "code",
      "source": [
        "arr = np.array([float(input(\"Insira a temperatura do dia: \")) for i in range(7)])\n",
        "menor_valor = np.min(arr)\n",
        "index_menor = np.argmin(arr)\n",
        "maior_valor = np.max(arr)\n",
        "index_maior = np.argmax(arr)\n",
        "media = np.mean(arr)\n",
        "print(f\"A temperatura média é: {media}\")\n",
        "print(f\"Temperatura máxima: {maior_valor}\")\n",
        "print(f\"Temperatura mínima: {menor_valor}\")\n",
        "print(f\"Temperatura máxima: {maior_valor}\")\n",
        "print(f\"Temperatura mínima: {menor_valor}\")\n",
        "print(f\"Dia Temperatura máxima: {index_maior + 1}\")\n",
        "print(f\"Dia Temperatura mínima: {index_menor + 1}\")"
      ],
      "metadata": {
        "id": "DUNwvq4_-0by",
        "colab": {
          "base_uri": "https://localhost:8080/"
        },
        "outputId": "1c0be0df-09d3-4c04-d181-0db3809375a0"
      },
      "execution_count": null,
      "outputs": [
        {
          "output_type": "stream",
          "name": "stdout",
          "text": [
            "Insira a temperatura do dia: 20\n",
            "Insira a temperatura do dia: 14\n",
            "Insira a temperatura do dia: 33\n",
            "Insira a temperatura do dia: 21\n",
            "Insira a temperatura do dia: 45\n",
            "Insira a temperatura do dia: 22\n",
            "Insira a temperatura do dia: 16\n",
            "A temperatura média é: 24.428571428571427\n",
            "Temperatura máxima: 45.0\n",
            "Temperatura mínima: 14.0\n",
            "Temperatura máxima: 45.0\n",
            "Temperatura mínima: 14.0\n",
            "Dia Temperatura máxima: 5\n",
            "Dia Temperatura mínima: 2\n"
          ]
        }
      ]
    },
    {
      "cell_type": "markdown",
      "source": [
        "Questão 02. Você está trabalhando em um projeto de engenharia e deseja calcular a força resultante de várias forças. Solicite ao usuário para inserir os valores de 5 forças e, em seguida, calcule e exiba a força resultante (soma das forças)."
      ],
      "metadata": {
        "id": "tdXjflFA-7Om"
      }
    },
    {
      "cell_type": "code",
      "source": [
        "forcas = []\n",
        "\n",
        "for i in range(5):\n",
        "    forca = float(input(\"Insira o valor da força: \"))\n",
        "    forcas.append(forca)\n",
        "\n",
        "forcas_array = np.array(forcas)\n",
        "\n",
        "forca_resultante = np.sum(forcas_array)\n",
        "\n",
        "print(f\"Força resultante: {forca_resultante}\")"
      ],
      "metadata": {
        "id": "Ki3vrzWE--jC"
      },
      "execution_count": null,
      "outputs": []
    },
    {
      "cell_type": "markdown",
      "source": [
        "Questão 03. Você está trabalhando com um sistema de mapeamento e precisa realizar operações de indexação e fatiamento em um mapa representado por uma matriz. O mapa possui números inteiros aleatórios, e você precisa acessar os valores em posições específicas.\n",
        "\n",
        "1.   Crie uma matriz bidimensional (um mapa) com números inteiros aleatórios entre 1 e 100. Peça ao usuário para inserir o número de linhas e colunas para o mapa.\n",
        "2.   Solicite ao usuário que escolha uma linha e uma coluna no mapa.\n",
        "3.   Exiba o valor encontrado na posição escolhida."
      ],
      "metadata": {
        "id": "YOpnNOms--5e"
      }
    },
    {
      "cell_type": "code",
      "source": [
        "colunas = int(input(\"Insira o número de linhas: \"))\n",
        "linhas = int(input(\"Insira o número de colunas:\"))\n",
        "\n",
        "random_numbers = np.random.randint(1,100,(linhas,colunas))\n",
        "print(\"Mapa: \")\n",
        "print(random_numbers)\n",
        "\n",
        "dig_linhas = int(input(\"Insira a linha desejada: \"))\n",
        "dig_colunas = int(input(\"Insira a coluna desejada: \"))\n",
        "\n",
        "print(f\"Valor na posição ({dig_linhas}, {dig_colunas}): {random_numbers[dig_linhas-1, dig_colunas-1]}\")"
      ],
      "metadata": {
        "id": "gHFJjWDr_CKN"
      },
      "execution_count": null,
      "outputs": []
    },
    {
      "cell_type": "markdown",
      "source": [
        "Questão 04. Você está trabalhando em um projeto de pesquisa de mercado e deseja calcular as estatísticas de idade de um grupo de pessoas. Peça ao usuário para inserir as idades de 10 pessoas e, em seguida, calcule e exiba a média, a mediana e o desvio padrão das idades."
      ],
      "metadata": {
        "id": "5fZIjtka_Qui"
      }
    },
    {
      "cell_type": "code",
      "source": [
        "idades = np.array([int(input(\"Insira a idade: \")) for i in range(10)])\n",
        "media = np.mean(idades)\n",
        "mediana = np.median(idades)\n",
        "desv_pad = np.std(idades)\n",
        "print(f\"Média das idades: {media}\")\n",
        "print(f\"Mediana das idades: {mediana}\")\n",
        "print(f\"Desvio padrão das idades: {desv_pad}\")"
      ],
      "metadata": {
        "id": "FVC-_fqP_XLp"
      },
      "execution_count": null,
      "outputs": []
    },
    {
      "cell_type": "markdown",
      "source": [
        "Questão 05. Você está construindo um simulador de lançamento de dados e deseja gerar números aleatórios. Peça ao usuário para inserir o número de vezes que deseja lançar um dado de 6 faces. Em seguida, gere e exiba um vetor NumPy com os resultados desses lançamentos."
      ],
      "metadata": {
        "id": "1H03Xs7B_X4c"
      }
    },
    {
      "cell_type": "code",
      "source": [
        "num_lancamentos = int(input(\"Insira o número de lançamentos: \"))\n",
        "\n",
        "resultado = np.random.randint(1, 7, num_lancamentos)\n",
        "\n",
        "print(f\"Resultados dos lançamentos:{resultado}\")"
      ],
      "metadata": {
        "id": "aIzTUrw3_bgB"
      },
      "execution_count": null,
      "outputs": []
    },
    {
      "cell_type": "markdown",
      "source": [
        "Questão 06. Você é um fotógrafo digital e está trabalhando em um projeto de processamento de imagens. Crie um array NumPy que represente uma imagem em escala de cinza com valores aleatórios. Normalize a imagem dividindo todos os valores pelo valor máximo possível (255). Exiba a imagem original e a imagem normalizada."
      ],
      "metadata": {
        "id": "_PQkALP5_cDL"
      }
    },
    {
      "cell_type": "code",
      "source": [
        "linhas = int(input(\"Digite o número de linhas da imagem: \"))\n",
        "colunas = int(input(\"Digite o número de colunas da imagem: \"))\n",
        "\n",
        "matriz = np.random.randint(0, 256, (linhas, colunas))\n",
        "print(\"Imagem original:\")\n",
        "print(matriz)\n",
        "\n",
        "mat_norm = matriz / 255\n",
        "print(\"\")\n",
        "print(\"Imagem normalizada:\")\n",
        "print(mat_norm)"
      ],
      "metadata": {
        "id": "G0vUy3Tq_jNX",
        "colab": {
          "base_uri": "https://localhost:8080/"
        },
        "outputId": "7e676004-1f9a-4646-b616-eab75b7adb4e"
      },
      "execution_count": null,
      "outputs": [
        {
          "output_type": "stream",
          "name": "stdout",
          "text": [
            "Digite o número de linhas da imagem: 10\n",
            "Digite o número de colunas da imagem: 10\n",
            "Imagem original:\n",
            "[[ 80 246  91 221 113   3 201  40 137 167]\n",
            " [113 197 114 251  85 215  90  32 209   3]\n",
            " [237  32 125  16 200  52  62  24  67  56]\n",
            " [130 229 224 139 109  94 249 166  36 254]\n",
            " [173  38 190 241 170  38 172 212 225 165]\n",
            " [238 221 224 196  89 215 132 136 139  33]\n",
            " [112  19  11 164 231 239 228 231 148 155]\n",
            " [158  12  86  74  49 126  22 120 112 159]\n",
            " [ 30  67 203 119 129 141 126 120 106   6]\n",
            " [ 87 157 226 247 155 223  57 104  48  75]]\n",
            "\n",
            "Imagem normalizada:\n",
            "[[0.31372549 0.96470588 0.35686275 0.86666667 0.44313725 0.01176471\n",
            "  0.78823529 0.15686275 0.5372549  0.65490196]\n",
            " [0.44313725 0.77254902 0.44705882 0.98431373 0.33333333 0.84313725\n",
            "  0.35294118 0.1254902  0.81960784 0.01176471]\n",
            " [0.92941176 0.1254902  0.49019608 0.0627451  0.78431373 0.20392157\n",
            "  0.24313725 0.09411765 0.2627451  0.21960784]\n",
            " [0.50980392 0.89803922 0.87843137 0.54509804 0.42745098 0.36862745\n",
            "  0.97647059 0.65098039 0.14117647 0.99607843]\n",
            " [0.67843137 0.14901961 0.74509804 0.94509804 0.66666667 0.14901961\n",
            "  0.6745098  0.83137255 0.88235294 0.64705882]\n",
            " [0.93333333 0.86666667 0.87843137 0.76862745 0.34901961 0.84313725\n",
            "  0.51764706 0.53333333 0.54509804 0.12941176]\n",
            " [0.43921569 0.0745098  0.04313725 0.64313725 0.90588235 0.9372549\n",
            "  0.89411765 0.90588235 0.58039216 0.60784314]\n",
            " [0.61960784 0.04705882 0.3372549  0.29019608 0.19215686 0.49411765\n",
            "  0.08627451 0.47058824 0.43921569 0.62352941]\n",
            " [0.11764706 0.2627451  0.79607843 0.46666667 0.50588235 0.55294118\n",
            "  0.49411765 0.47058824 0.41568627 0.02352941]\n",
            " [0.34117647 0.61568627 0.88627451 0.96862745 0.60784314 0.8745098\n",
            "  0.22352941 0.40784314 0.18823529 0.29411765]]\n"
          ]
        }
      ]
    },
    {
      "cell_type": "markdown",
      "source": [
        "Questão 07. Neste exercício, você atua como um analista financeiro que lida com dados de investimentos. Considere o preço de fechamento diário de ações de uma empresa ao longo de uma semana. Crie um programa que execute as seguintes operações:\n",
        "\n",
        "Solicite ao usuário que insira os preços de fechamento diários da ação da empresa durante uma semana (7 dias). Armazene esses preços em um array NumPy.\n",
        "\n",
        "1. Calcule o retorno diário da ação, que é a diferença entre o preço de fechamento atual e o preço de fechamento do dia anterior.\n",
        "2. Calcule o retorno médio diário da ação.\n",
        "3. Calcule o desvio padrão dos retornos diários, que é uma medida de volatilidade."
      ],
      "metadata": {
        "id": "62HOk9fQAvlT"
      }
    },
    {
      "cell_type": "code",
      "source": [
        "precos = np.array([float(input(f\"Digite o preço de fechamento do dia {i + 1}: \")) for i in range(7)])\n",
        "\n",
        "retorno_diario = np.diff(precos)\n",
        "retorno_medio = np.mean(retorno_diario)\n",
        "desv_pad_rd = np.std(retorno_diario)\n",
        "\n",
        "print(f\"Retorno médio diário: {retorno_medio:.2f}\")\n",
        "print(f\"Desvio padrão dos retornos diários: {desv_pad_rd:.2f}\")"
      ],
      "metadata": {
        "id": "8oG-ztPRA_5C"
      },
      "execution_count": null,
      "outputs": []
    },
    {
      "cell_type": "markdown",
      "source": [
        "Questão 08. Você é responsável pelo controle de estoque de uma loja e deseja identificar quais produtos estão em baixo estoque. Crie um programa que permita ao usuário inserir o nome e a quantidade em estoque de vários produtos. Após inserir os dados de todos os produtos, o programa deverá usar o NumPy para identificar e exibir uma lista dos produtos que têm menos de uma quantidade específica em estoque.\n",
        "\n",
        "Instruções:\n",
        "\n",
        "1. Solicite ao usuário quantos produtos deseja inserir.\n",
        "2. Solicite a quantidade mínima em estoque que define o limite de \"baixo estoque\".\n",
        "3. Para cada produto, solicite o nome e a quantidade em estoque.\n",
        "4. Após inserir todos os produtos, use o NumPy para identificar os produtos que têm uma quantidade em estoque inferior à quantidade mínima especificada."
      ],
      "metadata": {
        "id": "72xl1FtxBAXS"
      }
    },
    {
      "cell_type": "code",
      "source": [
        "quant_prod = int(input(\"Quantos produtos deseja inserir? \"))\n",
        "baixo_estoque = int(input(\"Qual é a quantidade mínima para considerar baixo estoque? \"))\n",
        "\n",
        "lista_prod = []\n",
        "lista_estoque = []\n",
        "\n",
        "for i in range(quant_prod):\n",
        "  produto = input(f\"Digite o nome do produto {i + 1}: \")\n",
        "  lista_prod.append(produto)\n",
        "  em_estoque = int(input(f\"Digite a quantidade em estoque para {produto}: \"))\n",
        "  lista_estoque.append(em_estoque)\n",
        "\n",
        "arr_produtos = np.array(lista_prod)\n",
        "arr_estoque = np.array(lista_estoque)\n",
        "\n",
        "arr_abaixo = np.where(arr_estoque < baixo_estoque)\n",
        "prod_abaixo = arr_produtos[arr_abaixo]\n",
        "\n",
        "print(f\"Produtos em baixo estoque (menos de {baixo_estoque} unidades):\")\n",
        "for i in range(len(prod_abaixo)):\n",
        "  print(prod_abaixo[i - 1])"
      ],
      "metadata": {
        "id": "nrCVb0Bw1Jil",
        "colab": {
          "base_uri": "https://localhost:8080/"
        },
        "outputId": "70d67269-412a-4e0c-8095-8a7f30e27a3d"
      },
      "execution_count": null,
      "outputs": [
        {
          "output_type": "stream",
          "name": "stdout",
          "text": [
            "Quantos produtos deseja inserir? 3\n",
            "Qual é a quantidade mínima para considerar baixo estoque? 5\n",
            "Digite o nome do produto 1: armário\n",
            "Digite a quantidade em estoque para armário: 2\n",
            "Digite o nome do produto 2: cadeira\n",
            "Digite a quantidade em estoque para cadeira: 10\n",
            "Digite o nome do produto 3: mesa\n",
            "Digite a quantidade em estoque para mesa: 5\n",
            "Produtos em baixo estoque (menos de 5 unidades):\n",
            "armário\n"
          ]
        }
      ]
    },
    {
      "cell_type": "code",
      "source": [],
      "metadata": {
        "id": "6uO1dCfGinjF"
      },
      "execution_count": null,
      "outputs": []
    }
  ]
}